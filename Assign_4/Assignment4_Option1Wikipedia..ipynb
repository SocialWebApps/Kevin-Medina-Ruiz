{
 "metadata": {
  "name": "",
  "signature": "sha256:07ceff6e7ad63092f60bda9961bb7adfecebe579e2707b3139220e3ba83c1520"
 },
 "nbformat": 3,
 "nbformat_minor": 0,
 "worksheets": [
  {
   "cells": [
    {
     "cell_type": "markdown",
     "metadata": {},
     "source": [
      "#Assignment #4: Option 1 - Add Coordinate Information to Wikipedia page\n",
      "\n",
      "##Kevin Medina\n"
     ]
    },
    {
     "cell_type": "heading",
     "level": 2,
     "metadata": {},
     "source": [
      "Step #1: Creating an Account on Wikipedia"
     ]
    },
    {
     "cell_type": "markdown",
     "metadata": {},
     "source": [
      "In order to edit a page on Wikipedia you must create an account. That can be done at the following link https://en.wikipedia.org/w/index.php?title=Special:UserLogin&returnto=Main+Page&type=signup"
     ]
    },
    {
     "cell_type": "heading",
     "level": 2,
     "metadata": {},
     "source": [
      "Step #2: Editing Boca Raton, Florida Wikipedia Page"
     ]
    },
    {
     "cell_type": "raw",
     "metadata": {},
     "source": [
      "1. To begin Editing click on the \"Edit\" tab in the upper left hand corner of the page. \n",
      "   It is found in between the \"Read\" and \"View History tabs\".\n",
      "   \n",
      "2. Here you edit the source code for the page. Simply add in what you want to add. In this case I added the following lines of code:\n",
      "    |coordinates_region       = US-FL\n",
      "    | pushpin_map             = USA\n",
      "    | pushpin_label           = Miami\n",
      "    | pushpin_map_caption     = Location in the United States\n",
      "    | latd  = 26 |latm  = 22 |lats  = 07 |latNS  = N\n",
      "    | longd = 80 |longm = 06 |longs = 00 |longEW = W\n",
      "    |coordinates_display = d\n",
      "    \n",
      "3. To preview your changes click on the \"Show Preview\" button at the bottom of the ditor.\n",
      "   Once you are ready to make your chnages viewable by the public click on the \"Save page\" button next to the \"Show Preview\" botton."
     ]
    },
    {
     "cell_type": "heading",
     "level": 2,
     "metadata": {},
     "source": [
      "Step #3: Extracting Geo-Microformatted Data From a Wikipedia Page"
     ]
    },
    {
     "cell_type": "markdown",
     "metadata": {},
     "source": [
      "In this step we will retrieve the coordinate information from the Wikipedia page  for the city of Boca Raton."
     ]
    },
    {
     "cell_type": "code",
     "collapsed": false,
     "input": [
      "import requests # pip install requests\n",
      "from BeautifulSoup import BeautifulSoup # pip install BeautifulSoup\n",
      "\n",
      "\n",
      "URL = 'http://en.wikipedia.org/wiki/Boca_Raton,_Florida'\n",
      "\n",
      "# In the case of extracting content from Wikipedia, be sure to\n",
      "# review its \"Bot Policy,\" which is defined at\n",
      "# http://meta.wikimedia.org/wiki/Bot_policy#Unacceptable_usage\n",
      "\n",
      "req = requests.get(URL, headers={'User-Agent' : \"Mining the Social Web\"})\n",
      "soup = BeautifulSoup(req.text)\n",
      "\n",
      "geoTag = soup.find(True, 'geo')\n",
      "\n",
      "if geoTag and len(geoTag) > 1:\n",
      "    lat = geoTag.find(True, 'latitude').string\n",
      "    lon = geoTag.find(True, 'longitude').string\n",
      "    print 'Location is at', lat, lon\n",
      "elif geoTag and len(geoTag) == 1:\n",
      "    (lat, lon) = geoTag.string.split(';')\n",
      "    (lat, lon) = (lat.strip(), lon.strip())\n",
      "    print 'Location is at', lat, lon\n",
      "else:\n",
      "    print 'No location found'\n",
      "import sys\n",
      "sys.path.append(\"C:\\\\cygwin64\\\\bin\\\\bash\")\n",
      "#sys.path.remove(\"C:\\\\cygwin64\\\\bin\")\n",
      "#print sys.path"
     ],
     "language": "python",
     "metadata": {},
     "outputs": [
      {
       "output_type": "stream",
       "stream": "stdout",
       "text": [
        "Location is at 26.36861 -80.10000\n"
       ]
      }
     ],
     "prompt_number": 12
    },
    {
     "cell_type": "heading",
     "level": 2,
     "metadata": {},
     "source": [
      "Expected Output"
     ]
    },
    {
     "cell_type": "raw",
     "metadata": {},
     "source": [
      "The output for the Boca Raton, Florida Wikipedia page should now be the following: Location is at 26.36861 -80.10000\n"
     ]
    }
   ],
   "metadata": {}
  }
 ]
}
